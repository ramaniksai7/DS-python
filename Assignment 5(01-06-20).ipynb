{
 "cells": [
  {
   "cell_type": "markdown",
   "metadata": {},
   "source": [
    "# CSE-221710309021-Ramani"
   ]
  },
  {
   "cell_type": "code",
   "execution_count": 2,
   "metadata": {},
   "outputs": [
    {
     "name": "stdout",
     "output_type": "stream",
     "text": [
      "singinghat52=\n",
      "enter yes or no for new passwordyes\n",
      "walkingphone83@\n",
      "enter yes or no for new passwordyes\n",
      "singingphone92|\n",
      "enter yes or no for new passwordyes\n",
      "climbingbottle74,\n",
      "enter yes or no for new passwordyes\n",
      "surfingbottle45_\n",
      "enter yes or no for new passwordno\n",
      "This is your desired password  surfingbottle45_\n"
     ]
    }
   ],
   "source": [
    "import random\n",
    "import string\n",
    "while True:\n",
    "    s1 = random.choice(string.punctuation)\n",
    "    s2 = str(random.randint(0,100))\n",
    "    verbs = [\"eating\",\"singing\",\"dancing\",\"walking\",\"running\",\"playing\",\"surfing\",\"climbing\",\"watching\",\"fishing\"]\n",
    "    s3 = random.choice(verbs)\n",
    "    noun = [\"car\",\"hat\",\"bottle\",\"table\",\"tractor\",\"chair\",\"ball\",\"laptop\",\"phone\",\"road\"]\n",
    "    s4 = random.choice(noun)\n",
    "    print(s3+s4+s2+s1)\n",
    "    p1 =input(\"enter yes or no for new password\")\n",
    "    if p1 == \"no\" or p1 == \"NO\":\n",
    "        print(\"This is your desired password \", s3+s4+s2+s1)\n",
    "        break\n",
    "    elif p1 == \"YES\" or p1 == \"yes\":\n",
    "        continue"
   ]
  }
 ],
 "metadata": {
  "kernelspec": {
   "display_name": "Python 3",
   "language": "python",
   "name": "python3"
  },
  "language_info": {
   "codemirror_mode": {
    "name": "ipython",
    "version": 3
   },
   "file_extension": ".py",
   "mimetype": "text/x-python",
   "name": "python",
   "nbconvert_exporter": "python",
   "pygments_lexer": "ipython3",
   "version": "3.7.4"
  }
 },
 "nbformat": 4,
 "nbformat_minor": 2
}

{
 "cells": [
  {
   "cell_type": "markdown",
   "metadata": {
    "colab_type": "text",
    "id": "q4e3_gbadzWg"
   },
   "source": [
    "## **cse**-**221710309021**-**Ramani**"
   ]
  },
  {
   "cell_type": "code",
   "execution_count": 1,
   "metadata": {
    "colab": {},
    "colab_type": "code",
    "id": "zO50-TOHa_fu"
   },
   "outputs": [],
   "source": [
    "import tensorflow as tf\n",
    "import tensorflow.keras as keras\n",
    "import numpy as np\n",
    "import matplotlib.pyplot as plt\n",
    "%matplotlib inline"
   ]
  },
  {
   "cell_type": "code",
   "execution_count": 2,
   "metadata": {
    "colab": {
     "base_uri": "https://localhost:8080/",
     "height": 34
    },
    "colab_type": "code",
    "id": "cUFrVbWebMYy",
    "outputId": "463aedfe-6e91-4928-b329-f263547c01a2"
   },
   "outputs": [
    {
     "name": "stderr",
     "output_type": "stream",
     "text": [
      "Using TensorFlow backend.\n"
     ]
    }
   ],
   "source": [
    "\n",
    "from keras.datasets.mnist import load_data"
   ]
  },
  {
   "cell_type": "code",
   "execution_count": 3,
   "metadata": {
    "colab": {
     "base_uri": "https://localhost:8080/",
     "height": 84
    },
    "colab_type": "code",
    "id": "Q7lxdQyFbRH_",
    "outputId": "e52e9fc0-f396-492e-d853-0920a1b43150"
   },
   "outputs": [
    {
     "name": "stdout",
     "output_type": "stream",
     "text": [
      "Downloading data from https://s3.amazonaws.com/img-datasets/mnist.npz\n",
      "11493376/11490434 [==============================] - 2s 0us/step\n",
      "(60000, 28, 28)\n",
      "(10000, 28, 28)\n"
     ]
    }
   ],
   "source": [
    "(train_digits,train_labels),(test_digits,test_labels)=load_data()\n",
    "print(train_digits.shape)\n",
    "print(test_digits.shape)"
   ]
  },
  {
   "cell_type": "code",
   "execution_count": 4,
   "metadata": {
    "colab": {
     "base_uri": "https://localhost:8080/",
     "height": 218
    },
    "colab_type": "code",
    "id": "svW0-j8GbaRr",
    "outputId": "be909d4f-b675-4744-bb1d-8c7e8c390a5e"
   },
   "outputs": [
    {
     "data": {
      "text/plain": [
       "<bound method IndexOpsMixin.value_counts of 0        5\n",
       "1        0\n",
       "2        4\n",
       "3        1\n",
       "4        9\n",
       "        ..\n",
       "59995    8\n",
       "59996    3\n",
       "59997    5\n",
       "59998    6\n",
       "59999    8\n",
       "Length: 60000, dtype: uint8>"
      ]
     },
     "execution_count": 4,
     "metadata": {
      "tags": []
     },
     "output_type": "execute_result"
    }
   ],
   "source": [
    "\n",
    "import pandas as pd\n",
    "pd.Series(train_labels).value_counts"
   ]
  },
  {
   "cell_type": "code",
   "execution_count": 5,
   "metadata": {
    "colab": {
     "base_uri": "https://localhost:8080/",
     "height": 218
    },
    "colab_type": "code",
    "id": "OdK6Mf-Xbe5W",
    "outputId": "b8045bc9-0fda-4d7b-f6b6-eac5fcc23e1a"
   },
   "outputs": [
    {
     "data": {
      "text/plain": [
       "<bound method IndexOpsMixin.value_counts of 0       7\n",
       "1       2\n",
       "2       1\n",
       "3       0\n",
       "4       4\n",
       "       ..\n",
       "9995    2\n",
       "9996    3\n",
       "9997    4\n",
       "9998    5\n",
       "9999    6\n",
       "Length: 10000, dtype: uint8>"
      ]
     },
     "execution_count": 5,
     "metadata": {
      "tags": []
     },
     "output_type": "execute_result"
    }
   ],
   "source": [
    "pd.Series(test_labels).value_counts"
   ]
  },
  {
   "cell_type": "code",
   "execution_count": 6,
   "metadata": {
    "colab": {
     "base_uri": "https://localhost:8080/",
     "height": 282
    },
    "colab_type": "code",
    "id": "PRRXy8z6biz7",
    "outputId": "23f88f5d-f2b3-47f3-fc76-a713ebee27ad"
   },
   "outputs": [
    {
     "data": {
      "text/plain": [
       "<matplotlib.image.AxesImage at 0x7f2eab2187b8>"
      ]
     },
     "execution_count": 6,
     "metadata": {
      "tags": []
     },
     "output_type": "execute_result"
    },
    {
     "data": {
      "image/png": "[encoded data removed]",
      "text/plain": [
       "<Figure size 432x288 with 1 Axes>"
      ]
     },
     "metadata": {
      "needs_background": "light",
      "tags": []
     },
     "output_type": "display_data"
    }
   ],
   "source": [
    "plt.imshow(train_digits[0])"
   ]
  },
  {
   "cell_type": "code",
   "execution_count": 7,
   "metadata": {
    "colab": {
     "base_uri": "https://localhost:8080/",
     "height": 298
    },
    "colab_type": "code",
    "id": "xnYUf41cbqMo",
    "outputId": "b77e59ec-e044-4daf-8114-3467d0d1c749"
   },
   "outputs": [
    {
     "data": {
      "text/plain": [
       "<matplotlib.image.AxesImage at 0x7f2eab19c828>"
      ]
     },
     "execution_count": 7,
     "metadata": {
      "tags": []
     },
     "output_type": "execute_result"
    },
    {
     "data": {
      "image/png": "[encoded data removed]",
      "text/plain": [
       "<Figure size 432x288 with 1 Axes>"
      ]
     },
     "metadata": {
      "needs_background": "light",
      "tags": []
     },
     "output_type": "display_data"
    }
   ],
   "source": [
    "plt.title(\"Digit:\"+str(train_labels[0]))\n",
    "plt.imshow(train_digits[0],cmap=\"gray\")\n"
   ]
  },
  {
   "cell_type": "code",
   "execution_count": 9,
   "metadata": {
    "colab": {
     "base_uri": "https://localhost:8080/",
     "height": 265
    },
    "colab_type": "code",
    "id": "zXdPiPN_btTu",
    "outputId": "f0c3ee57-f10f-43fc-84f5-f7f2dd9d52f0"
   },
   "outputs": [
    {
     "data": {
      "image/png": "[encoded data removed]",
      "text/plain": [
       "<Figure size 432x288 with 1 Axes>"
      ]
     },
     "metadata": {
      "needs_background": "light",
      "tags": []
     },
     "output_type": "display_data"
    }
   ],
   "source": [
    "\n",
    "plt.hist(train_digits[0])\n",
    "plt.show()"
   ]
  },
  {
   "cell_type": "code",
   "execution_count": 10,
   "metadata": {
    "colab": {
     "base_uri": "https://localhost:8080/",
     "height": 50
    },
    "colab_type": "code",
    "id": "0F8tQ4cubyez",
    "outputId": "7d40b02d-cc22-416a-c2bc-ce9699bdc5c8"
   },
   "outputs": [
    {
     "data": {
      "text/plain": [
       "array([46875, 13137, 39745, 17390,  8054, 51164, 31139,  2411, 51844,\n",
       "       42194, 25966,  7235, 20120,  9417, 23911, 43544])"
      ]
     },
     "execution_count": 10,
     "metadata": {
      "tags": []
     },
     "output_type": "execute_result"
    }
   ],
   "source": [
    "samp=np.random.randint(train_digits.shape[0],size=16)\n",
    "samp"
   ]
  },
  {
   "cell_type": "code",
   "execution_count": 11,
   "metadata": {
    "colab": {
     "base_uri": "https://localhost:8080/",
     "height": 917
    },
    "colab_type": "code",
    "id": "6gGurx1db1-N",
    "outputId": "d347107c-9a25-4198-fe3a-ac4e394d370f"
   },
   "outputs": [
    {
     "data": {
      "image/png": "[encoded data removed]",
      "text/plain": [
       "<Figure size 1152x1152 with 16 Axes>"
      ]
     },
     "metadata": {
      "needs_background": "light",
      "tags": []
     },
     "output_type": "display_data"
    }
   ],
   "source": [
    "plt.figure(figsize=(16,16))\n",
    "j=1\n",
    "for i in samp:\n",
    "  plt.subplot(4,4,j)\n",
    "  plt.imshow(train_digits[i])\n",
    "  plt.title(\"Digit:\"+str(train_labels[i]))\n",
    "  plt.axis(\"off\")\n",
    "  j=j+1"
   ]
  },
  {
   "cell_type": "code",
   "execution_count": 12,
   "metadata": {
    "colab": {},
    "colab_type": "code",
    "id": "sTCgv2Oxb7g9"
   },
   "outputs": [],
   "source": [
    "train_digits_sc=train_digits/255.0\n",
    "test_digits_sc=test_digits/255.0"
   ]
  },
  {
   "cell_type": "code",
   "execution_count": 13,
   "metadata": {
    "colab": {},
    "colab_type": "code",
    "id": "L1N1GH9Ub87V"
   },
   "outputs": [],
   "source": [
    "\n",
    "from keras.utils import to_categorical"
   ]
  },
  {
   "cell_type": "code",
   "execution_count": 14,
   "metadata": {
    "colab": {},
    "colab_type": "code",
    "id": "aUkFrEOVcAXC"
   },
   "outputs": [],
   "source": [
    "train_labels_cat=to_categorical(train_labels)"
   ]
  },
  {
   "cell_type": "code",
   "execution_count": 15,
   "metadata": {
    "colab": {},
    "colab_type": "code",
    "id": "p3nLT7ygcD7A"
   },
   "outputs": [],
   "source": [
    "test_labels_cat=to_categorical(test_labels)"
   ]
  },
  {
   "cell_type": "code",
   "execution_count": 16,
   "metadata": {
    "colab": {
     "base_uri": "https://localhost:8080/",
     "height": 84
    },
    "colab_type": "code",
    "id": "ad9_4Mx-cHYM",
    "outputId": "d8cef856-2de5-46fb-cdcc-fc93ed6a98b7"
   },
   "outputs": [
    {
     "name": "stdout",
     "output_type": "stream",
     "text": [
      "(54000, 28, 28)\n",
      "(6000, 28, 28)\n",
      "(54000, 10)\n",
      "(6000, 10)\n"
     ]
    }
   ],
   "source": [
    "from sklearn.model_selection import train_test_split\n",
    "x_train,x_val,y_train,y_val=train_test_split(train_digits_sc,train_labels_cat,test_size=0.1,random_state=32)\n",
    "print(x_train.shape)\n",
    "print(x_val.shape)\n",
    "print(y_train.shape)\n",
    "print(y_val.shape)\n"
   ]
  },
  {
   "cell_type": "code",
   "execution_count": 17,
   "metadata": {
    "colab": {
     "base_uri": "https://localhost:8080/",
     "height": 353
    },
    "colab_type": "code",
    "id": "saD6gW4lcLIy",
    "outputId": "6eac7559-f615-4e5e-9c2d-56579c31051b"
   },
   "outputs": [
    {
     "name": "stdout",
     "output_type": "stream",
     "text": [
      "Model: \"sequential_1\"\n",
      "_________________________________________________________________\n",
      "Layer (type)                 Output Shape              Param #   \n",
      "=================================================================\n",
      "flatten_1 (Flatten)          (None, 784)               0         \n",
      "_________________________________________________________________\n",
      "dense_1 (Dense)              (None, 128)               100480    \n",
      "_________________________________________________________________\n",
      "dense_2 (Dense)              (None, 128)               16512     \n",
      "_________________________________________________________________\n",
      "dense_3 (Dense)              (None, 64)                8256      \n",
      "_________________________________________________________________\n",
      "dense_4 (Dense)              (None, 256)               16640     \n",
      "_________________________________________________________________\n",
      "dense_5 (Dense)              (None, 10)                2570      \n",
      "=================================================================\n",
      "Total params: 144,458\n",
      "Trainable params: 144,458\n",
      "Non-trainable params: 0\n",
      "_________________________________________________________________\n"
     ]
    }
   ],
   "source": [
    "from keras.models import Sequential\n",
    "from keras.layers import Dense,Flatten\n",
    "\n",
    "model = Sequential()\n",
    "# first layer we need to mention the input shape\n",
    "\n",
    "model.add(Flatten(input_shape=(28,28)))\n",
    "## 784 pixel values as input to this Dense. 128 Neurons in the layers\n",
    "model.add(Dense(128,activation='relu'))# 784 * 128+128\n",
    "model.add(Dense(128,activation='relu'))# \n",
    "model.add(Dense(64,activation='relu'))\n",
    "model.add(Dense(256,activation='relu'))\n",
    "#Final layer\n",
    "model.add(Dense(10,activation='softmax'))\n",
    "model.summary()"
   ]
  },
  {
   "cell_type": "code",
   "execution_count": 18,
   "metadata": {
    "colab": {},
    "colab_type": "code",
    "id": "M57Y4bg8cP02"
   },
   "outputs": [],
   "source": [
    "model.compile(optimizer='adam',loss=tf.keras.losses.CategoricalCrossentropy(),metrics=['accuracy'])"
   ]
  },
  {
   "cell_type": "code",
   "execution_count": 19,
   "metadata": {
    "colab": {
     "base_uri": "https://localhost:8080/",
     "height": 202
    },
    "colab_type": "code",
    "id": "z6iqmF6EcUI5",
    "outputId": "bf4fc407-3008-4f17-cac3-d33ab355cc8a"
   },
   "outputs": [
    {
     "name": "stdout",
     "output_type": "stream",
     "text": [
      "Train on 54000 samples, validate on 6000 samples\n",
      "Epoch 1/5\n",
      "54000/54000 [==============================] - 6s 104us/step - loss: 0.2457 - accuracy: 0.9237 - val_loss: 0.1455 - val_accuracy: 0.9583\n",
      "Epoch 2/5\n",
      "54000/54000 [==============================] - 5s 97us/step - loss: 0.1091 - accuracy: 0.9661 - val_loss: 0.1022 - val_accuracy: 0.9707\n",
      "Epoch 3/5\n",
      "54000/54000 [==============================] - 5s 102us/step - loss: 0.0799 - accuracy: 0.9747 - val_loss: 0.1155 - val_accuracy: 0.9668\n",
      "Epoch 4/5\n",
      "54000/54000 [==============================] - 5s 99us/step - loss: 0.0644 - accuracy: 0.9797 - val_loss: 0.0883 - val_accuracy: 0.9767\n",
      "Epoch 5/5\n",
      "54000/54000 [==============================] - 5s 97us/step - loss: 0.0537 - accuracy: 0.9833 - val_loss: 0.1062 - val_accuracy: 0.9722\n"
     ]
    }
   ],
   "source": [
    "history=model.fit(x=x_train,y=y_train,epochs=5,validation_data=(x_val,y_val),batch_size=32)"
   ]
  },
  {
   "cell_type": "code",
   "execution_count": 20,
   "metadata": {
    "colab": {
     "base_uri": "https://localhost:8080/",
     "height": 50
    },
    "colab_type": "code",
    "id": "W4OF_zC2cXJk",
    "outputId": "fc5704bb-8e64-4c7c-b22a-9282f154ed0a"
   },
   "outputs": [
    {
     "name": "stdout",
     "output_type": "stream",
     "text": [
      "10000/10000 [==============================] - 0s 26us/step\n"
     ]
    },
    {
     "data": {
      "text/plain": [
       "[0.10511180375332478, 0.97079998254776]"
      ]
     },
     "execution_count": 20,
     "metadata": {
      "tags": []
     },
     "output_type": "execute_result"
    }
   ],
   "source": [
    "model.evaluate(test_digits_sc,test_labels_cat)"
   ]
  },
  {
   "cell_type": "code",
   "execution_count": 21,
   "metadata": {
    "colab": {
     "base_uri": "https://localhost:8080/",
     "height": 67
    },
    "colab_type": "code",
    "id": "yYavGJsbcZy9",
    "outputId": "030b8bf5-8735-4f5a-dc9a-b7bda25ff54f"
   },
   "outputs": [
    {
     "name": "stdout",
     "output_type": "stream",
     "text": [
      "(10000, 28, 28)\n",
      "(28, 28)\n",
      "(1, 28, 28)\n"
     ]
    }
   ],
   "source": [
    "print(test_digits_sc.shape)\n",
    "print(test_digits_sc[0].shape)\n",
    "print(np.expand_dims(test_digits_sc[0],axis=0).shape)"
   ]
  },
  {
   "cell_type": "code",
   "execution_count": 22,
   "metadata": {
    "colab": {
     "base_uri": "https://localhost:8080/",
     "height": 67
    },
    "colab_type": "code",
    "id": "qPSIhcDIcj6j",
    "outputId": "04ae50ef-1507-48bd-cfe9-e3e923d17393"
   },
   "outputs": [
    {
     "data": {
      "text/plain": [
       "array([[1.7412969e-09, 2.1270407e-06, 4.9475834e-06, 3.9176921e-06,\n",
       "        2.5760629e-09, 4.9345048e-09, 1.5495370e-12, 9.9998724e-01,\n",
       "        1.3613693e-08, 1.6099611e-06]], dtype=float32)"
      ]
     },
     "execution_count": 22,
     "metadata": {
      "tags": []
     },
     "output_type": "execute_result"
    }
   ],
   "source": [
    "model.predict(np.expand_dims(test_digits_sc[0],axis=0))"
   ]
  },
  {
   "cell_type": "code",
   "execution_count": 23,
   "metadata": {
    "colab": {
     "base_uri": "https://localhost:8080/",
     "height": 521
    },
    "colab_type": "code",
    "id": "vvSGzmwXcmZE",
    "outputId": "4277f041-16ae-48c7-88a9-624acb565ae1"
   },
   "outputs": [
    {
     "data": {
      "text/plain": [
       "array([[1.74129022e-09, 2.12703458e-06, 4.94756478e-06, 3.91768117e-06,\n",
       "        2.57605803e-09, 4.93449548e-09, 1.54953697e-12, 9.99987245e-01,\n",
       "        1.36136418e-08, 1.60995648e-06],\n",
       "       [1.84778557e-07, 6.90325178e-05, 9.99910116e-01, 1.17799482e-05,\n",
       "        1.35922775e-08, 7.76375941e-08, 9.88528370e-09, 8.25920779e-06,\n",
       "        5.07970299e-07, 1.34776490e-09],\n",
       "       [1.66381355e-07, 9.99910951e-01, 3.44724049e-06, 9.76135652e-08,\n",
       "        3.18671118e-06, 2.18509868e-07, 2.68596591e-06, 3.79347475e-05,\n",
       "        4.08295964e-05, 4.39412901e-07],\n",
       "       [9.99954581e-01, 3.37573591e-09, 9.22797142e-07, 2.58675783e-08,\n",
       "        4.63635530e-07, 1.90791951e-08, 2.48742595e-06, 1.19834937e-07,\n",
       "        6.41548894e-08, 4.12783884e-05],\n",
       "       [3.02764080e-09, 2.87475155e-10, 1.78531798e-06, 1.08679221e-09,\n",
       "        9.99809444e-01, 4.30010971e-07, 5.81879434e-08, 1.77743011e-08,\n",
       "        2.74142820e-10, 1.88364604e-04],\n",
       "       [2.73920908e-09, 9.99994755e-01, 8.86558453e-08, 1.10409237e-09,\n",
       "        8.63491181e-08, 1.97043226e-09, 4.15941841e-08, 4.06623258e-06,\n",
       "        9.62453441e-07, 1.34323956e-08],\n",
       "       [1.57986108e-06, 1.96363617e-05, 2.11330243e-05, 6.31143348e-06,\n",
       "        9.81865108e-01, 4.69270255e-03, 2.55301729e-05, 5.79773478e-05,\n",
       "        1.98019459e-03, 1.13299135e-02],\n",
       "       [2.29701936e-06, 1.76703895e-06, 6.17907281e-05, 2.23745755e-03,\n",
       "        1.68619590e-04, 2.17244844e-04, 7.54347163e-09, 1.23861209e-05,\n",
       "        3.74876945e-05, 9.97260928e-01],\n",
       "       [1.03610009e-10, 2.05132866e-09, 2.93447777e-09, 8.84337396e-07,\n",
       "        1.65533043e-09, 9.99942541e-01, 5.43813803e-05, 1.86020033e-10,\n",
       "        2.29120383e-06, 1.41266714e-08],\n",
       "       [2.51470849e-12, 5.37295946e-12, 3.28491292e-12, 3.77300724e-09,\n",
       "        7.44636779e-08, 6.76682321e-10, 5.09420462e-18, 4.48154847e-09,\n",
       "        3.94839300e-10, 9.99999881e-01]], dtype=float32)"
      ]
     },
     "execution_count": 23,
     "metadata": {
      "tags": []
     },
     "output_type": "execute_result"
    }
   ],
   "source": [
    "model.predict(test_digits_sc[:10])"
   ]
  },
  {
   "cell_type": "code",
   "execution_count": 24,
   "metadata": {
    "colab": {
     "base_uri": "https://localhost:8080/",
     "height": 34
    },
    "colab_type": "code",
    "id": "r0_JUyC2cpSU",
    "outputId": "1fbb82db-a54d-4df9-92db-e4e4aef2f564"
   },
   "outputs": [
    {
     "data": {
      "text/plain": [
       "array([7])"
      ]
     },
     "execution_count": 24,
     "metadata": {
      "tags": []
     },
     "output_type": "execute_result"
    }
   ],
   "source": [
    "model.predict_classes(np.expand_dims(test_digits_sc[0],axis=0))\n"
   ]
  },
  {
   "cell_type": "code",
   "execution_count": 25,
   "metadata": {
    "colab": {
     "base_uri": "https://localhost:8080/",
     "height": 67
    },
    "colab_type": "code",
    "id": "dj4iSzV7ct6P",
    "outputId": "368f9daf-e2ab-470a-a0b1-b4df1cf0844f"
   },
   "outputs": [
    {
     "data": {
      "text/plain": [
       "array([[1.7412969e-09, 2.1270407e-06, 4.9475834e-06, 3.9176921e-06,\n",
       "        2.5760629e-09, 4.9345048e-09, 1.5495370e-12, 9.9998724e-01,\n",
       "        1.3613693e-08, 1.6099611e-06]], dtype=float32)"
      ]
     },
     "execution_count": 25,
     "metadata": {
      "tags": []
     },
     "output_type": "execute_result"
    }
   ],
   "source": [
    "\n",
    "model.predict_proba(np.expand_dims(test_digits_sc[0],axis=0))"
   ]
  },
  {
   "cell_type": "code",
   "execution_count": 26,
   "metadata": {
    "colab": {
     "base_uri": "https://localhost:8080/",
     "height": 286
    },
    "colab_type": "code",
    "id": "jOgYyYFCcw_7",
    "outputId": "ad4ad0de-982b-4757-8cf9-fc65a07b32bf"
   },
   "outputs": [
    {
     "data": {
      "text/plain": [
       "{'accuracy': [0.92366666, 0.96614814, 0.9747222, 0.97966665, 0.98325926],\n",
       " 'loss': [0.24572353314001252,\n",
       "  0.10911675610724422,\n",
       "  0.07992770400382923,\n",
       "  0.06442210323937858,\n",
       "  0.05373123055611547],\n",
       " 'val_accuracy': [0.9583333134651184,\n",
       "  0.9706666469573975,\n",
       "  0.9668333530426025,\n",
       "  0.9766666889190674,\n",
       "  0.9721666574478149],\n",
       " 'val_loss': [0.14551646004120508,\n",
       "  0.10220097087572018,\n",
       "  0.11547662619252999,\n",
       "  0.08832925317498545,\n",
       "  0.10623527992330492]}"
      ]
     },
     "execution_count": 26,
     "metadata": {
      "tags": []
     },
     "output_type": "execute_result"
    }
   ],
   "source": [
    "history.history"
   ]
  },
  {
   "cell_type": "code",
   "execution_count": 27,
   "metadata": {
    "colab": {
     "base_uri": "https://localhost:8080/",
     "height": 282
    },
    "colab_type": "code",
    "id": "ttrRUWr6czvQ",
    "outputId": "aebf7e9b-a464-4def-cad2-e0386bb97276"
   },
   "outputs": [
    {
     "data": {
      "text/plain": [
       "[<matplotlib.lines.Line2D at 0x7f2e9c2f0d30>]"
      ]
     },
     "execution_count": 27,
     "metadata": {
      "tags": []
     },
     "output_type": "execute_result"
    },
    {
     "data": {
      "image/png": "[encoded data removed]",
      "text/plain": [
       "<Figure size 432x288 with 1 Axes>"
      ]
     },
     "metadata": {
      "needs_background": "light",
      "tags": []
     },
     "output_type": "display_data"
    }
   ],
   "source": [
    "\n",
    "plt.plot(history.history['accuracy'])\n",
    "plt.plot(history.history['val_accuracy'])"
   ]
  },
  {
   "cell_type": "code",
   "execution_count": 28,
   "metadata": {
    "colab": {
     "base_uri": "https://localhost:8080/",
     "height": 353
    },
    "colab_type": "code",
    "id": "sgnnwNVrc22j",
    "outputId": "287a6220-bec3-407f-8406-d7852a82a4da"
   },
   "outputs": [
    {
     "name": "stdout",
     "output_type": "stream",
     "text": [
      "Model: \"sequential_2\"\n",
      "_________________________________________________________________\n",
      "Layer (type)                 Output Shape              Param #   \n",
      "=================================================================\n",
      "flatten_2 (Flatten)          (None, 784)               0         \n",
      "_________________________________________________________________\n",
      "dense_6 (Dense)              (None, 128)               100480    \n",
      "_________________________________________________________________\n",
      "dense_7 (Dense)              (None, 256)               33024     \n",
      "_________________________________________________________________\n",
      "dense_8 (Dense)              (None, 64)                16448     \n",
      "_________________________________________________________________\n",
      "dense_9 (Dense)              (None, 256)               16640     \n",
      "_________________________________________________________________\n",
      "dense_10 (Dense)             (None, 10)                2570      \n",
      "=================================================================\n",
      "Total params: 169,162\n",
      "Trainable params: 169,162\n",
      "Non-trainable params: 0\n",
      "_________________________________________________________________\n"
     ]
    }
   ],
   "source": [
    "model1 = Sequential()\n",
    "# first layer we need to mention the input shape\n",
    "\n",
    "model1.add(Flatten(input_shape=(28,28)))\n",
    "## 784 pixel values as input to this Dense. 128 Neurons in the layers\n",
    "model1.add(Dense(128,activation='relu'))# 784 * 128+128\n",
    "model1.add(Dense(256,activation='relu'))# \n",
    "model1.add(Dense(64,activation='relu'))\n",
    "model1.add(Dense(256,activation='relu'))\n",
    "#Final layer\n",
    "model1.add(Dense(10,activation='sigmoid'))\n",
    "model1.summary()"
   ]
  },
  {
   "cell_type": "code",
   "execution_count": 29,
   "metadata": {
    "colab": {},
    "colab_type": "code",
    "id": "9omIbQV2c5kU"
   },
   "outputs": [],
   "source": [
    "model1.compile(optimizer='adam',loss=tf.keras.losses.CategoricalCrossentropy(),metrics=['accuracy'])"
   ]
  },
  {
   "cell_type": "code",
   "execution_count": 30,
   "metadata": {
    "colab": {
     "base_uri": "https://localhost:8080/",
     "height": 202
    },
    "colab_type": "code",
    "id": "ffC88TCzc_yg",
    "outputId": "392df29f-265b-492a-97ea-873082ce381c"
   },
   "outputs": [
    {
     "name": "stdout",
     "output_type": "stream",
     "text": [
      "Train on 54000 samples, validate on 6000 samples\n",
      "Epoch 1/5\n",
      "54000/54000 [==============================] - 6s 120us/step - loss: 0.2621 - accuracy: 0.9210 - val_loss: 0.1474 - val_accuracy: 0.9597\n",
      "Epoch 2/5\n",
      "54000/54000 [==============================] - 6s 113us/step - loss: 0.1115 - accuracy: 0.9666 - val_loss: 0.1354 - val_accuracy: 0.9605\n",
      "Epoch 3/5\n",
      "54000/54000 [==============================] - 6s 112us/step - loss: 0.0806 - accuracy: 0.9754 - val_loss: 0.1070 - val_accuracy: 0.9713\n",
      "Epoch 4/5\n",
      "54000/54000 [==============================] - 6s 110us/step - loss: 0.0639 - accuracy: 0.9806 - val_loss: 0.0928 - val_accuracy: 0.9750\n",
      "Epoch 5/5\n",
      "54000/54000 [==============================] - 6s 110us/step - loss: 0.0525 - accuracy: 0.9837 - val_loss: 0.0960 - val_accuracy: 0.9770\n"
     ]
    }
   ],
   "source": [
    "history=model1.fit(x=x_train,y=y_train,epochs=5,validation_data=(x_val,y_val),batch_size=32)\n"
   ]
  },
  {
   "cell_type": "code",
   "execution_count": 31,
   "metadata": {
    "colab": {
     "base_uri": "https://localhost:8080/",
     "height": 50
    },
    "colab_type": "code",
    "id": "PkpZuz0cdDtM",
    "outputId": "3861d110-c015-404c-89cb-2f21187a3887"
   },
   "outputs": [
    {
     "name": "stdout",
     "output_type": "stream",
     "text": [
      "10000/10000 [==============================] - 0s 26us/step\n"
     ]
    },
    {
     "data": {
      "text/plain": [
       "[0.0882725809425814, 0.9765999913215637]"
      ]
     },
     "execution_count": 31,
     "metadata": {
      "tags": []
     },
     "output_type": "execute_result"
    }
   ],
   "source": [
    "model1.evaluate(test_digits_sc,test_labels_cat)"
   ]
  },
  {
   "cell_type": "code",
   "execution_count": 32,
   "metadata": {
    "colab": {
     "base_uri": "https://localhost:8080/",
     "height": 67
    },
    "colab_type": "code",
    "id": "W7E8knoSdHq5",
    "outputId": "eefa592b-8a6e-4778-feb3-8394a0c64cd3"
   },
   "outputs": [
    {
     "name": "stdout",
     "output_type": "stream",
     "text": [
      "(10000, 28, 28)\n",
      "(28, 28)\n",
      "(1, 28, 28)\n"
     ]
    }
   ],
   "source": [
    "\n",
    "print(test_digits_sc.shape)\n",
    "print(test_digits_sc[0].shape)\n",
    "print(np.expand_dims(test_digits_sc[0],axis=0).shape)"
   ]
  },
  {
   "cell_type": "code",
   "execution_count": 33,
   "metadata": {
    "colab": {
     "base_uri": "https://localhost:8080/",
     "height": 67
    },
    "colab_type": "code",
    "id": "6_wN5uqrdKym",
    "outputId": "71ceea39-9dff-4714-c29a-b82eaef7b58b"
   },
   "outputs": [
    {
     "data": {
      "text/plain": [
       "array([[1.7412969e-09, 2.1270407e-06, 4.9475834e-06, 3.9176921e-06,\n",
       "        2.5760629e-09, 4.9345048e-09, 1.5495370e-12, 9.9998724e-01,\n",
       "        1.3613693e-08, 1.6099611e-06]], dtype=float32)"
      ]
     },
     "execution_count": 33,
     "metadata": {
      "tags": []
     },
     "output_type": "execute_result"
    }
   ],
   "source": [
    "model.predict(np.expand_dims(test_digits_sc[0],axis=0))"
   ]
  },
  {
   "cell_type": "code",
   "execution_count": 34,
   "metadata": {
    "colab": {
     "base_uri": "https://localhost:8080/",
     "height": 521
    },
    "colab_type": "code",
    "id": "8Xlpg8OEdOjd",
    "outputId": "b8928c82-c803-4093-e6c6-729a1b6f9344"
   },
   "outputs": [
    {
     "data": {
      "text/plain": [
       "array([[1.74129022e-09, 2.12703458e-06, 4.94756478e-06, 3.91768117e-06,\n",
       "        2.57605803e-09, 4.93449548e-09, 1.54953697e-12, 9.99987245e-01,\n",
       "        1.36136418e-08, 1.60995648e-06],\n",
       "       [1.84778557e-07, 6.90325178e-05, 9.99910116e-01, 1.17799482e-05,\n",
       "        1.35922775e-08, 7.76375941e-08, 9.88528370e-09, 8.25920779e-06,\n",
       "        5.07970299e-07, 1.34776490e-09],\n",
       "       [1.66381355e-07, 9.99910951e-01, 3.44724049e-06, 9.76135652e-08,\n",
       "        3.18671118e-06, 2.18509868e-07, 2.68596591e-06, 3.79347475e-05,\n",
       "        4.08295964e-05, 4.39412901e-07],\n",
       "       [9.99954581e-01, 3.37573591e-09, 9.22797142e-07, 2.58675783e-08,\n",
       "        4.63635530e-07, 1.90791951e-08, 2.48742595e-06, 1.19834937e-07,\n",
       "        6.41548894e-08, 4.12783884e-05],\n",
       "       [3.02764080e-09, 2.87475155e-10, 1.78531798e-06, 1.08679221e-09,\n",
       "        9.99809444e-01, 4.30010971e-07, 5.81879434e-08, 1.77743011e-08,\n",
       "        2.74142820e-10, 1.88364604e-04],\n",
       "       [2.73920908e-09, 9.99994755e-01, 8.86558453e-08, 1.10409237e-09,\n",
       "        8.63491181e-08, 1.97043226e-09, 4.15941841e-08, 4.06623258e-06,\n",
       "        9.62453441e-07, 1.34323956e-08],\n",
       "       [1.57986108e-06, 1.96363617e-05, 2.11330243e-05, 6.31143348e-06,\n",
       "        9.81865108e-01, 4.69270255e-03, 2.55301729e-05, 5.79773478e-05,\n",
       "        1.98019459e-03, 1.13299135e-02],\n",
       "       [2.29701936e-06, 1.76703895e-06, 6.17907281e-05, 2.23745755e-03,\n",
       "        1.68619590e-04, 2.17244844e-04, 7.54347163e-09, 1.23861209e-05,\n",
       "        3.74876945e-05, 9.97260928e-01],\n",
       "       [1.03610009e-10, 2.05132866e-09, 2.93447777e-09, 8.84337396e-07,\n",
       "        1.65533043e-09, 9.99942541e-01, 5.43813803e-05, 1.86020033e-10,\n",
       "        2.29120383e-06, 1.41266714e-08],\n",
       "       [2.51470849e-12, 5.37295946e-12, 3.28491292e-12, 3.77300724e-09,\n",
       "        7.44636779e-08, 6.76682321e-10, 5.09420462e-18, 4.48154847e-09,\n",
       "        3.94839300e-10, 9.99999881e-01]], dtype=float32)"
      ]
     },
     "execution_count": 34,
     "metadata": {
      "tags": []
     },
     "output_type": "execute_result"
    }
   ],
   "source": [
    "model.predict(test_digits_sc[:10])"
   ]
  },
  {
   "cell_type": "code",
   "execution_count": 35,
   "metadata": {
    "colab": {
     "base_uri": "https://localhost:8080/",
     "height": 34
    },
    "colab_type": "code",
    "id": "H5LTuqQgdRrS",
    "outputId": "627f6f14-c61d-4e07-8559-411b783d2a27"
   },
   "outputs": [
    {
     "data": {
      "text/plain": [
       "array([7])"
      ]
     },
     "execution_count": 35,
     "metadata": {
      "tags": []
     },
     "output_type": "execute_result"
    }
   ],
   "source": [
    "model.predict_classes(np.expand_dims(test_digits_sc[0],axis=0))"
   ]
  },
  {
   "cell_type": "code",
   "execution_count": 36,
   "metadata": {
    "colab": {
     "base_uri": "https://localhost:8080/",
     "height": 67
    },
    "colab_type": "code",
    "id": "2qN6TTqcdZni",
    "outputId": "a2a9331d-ec11-45dd-d716-ac445b5d0d6c"
   },
   "outputs": [
    {
     "data": {
      "text/plain": [
       "array([[1.7412969e-09, 2.1270407e-06, 4.9475834e-06, 3.9176921e-06,\n",
       "        2.5760629e-09, 4.9345048e-09, 1.5495370e-12, 9.9998724e-01,\n",
       "        1.3613693e-08, 1.6099611e-06]], dtype=float32)"
      ]
     },
     "execution_count": 36,
     "metadata": {
      "tags": []
     },
     "output_type": "execute_result"
    }
   ],
   "source": [
    "\n",
    "model.predict_proba(np.expand_dims(test_digits_sc[0],axis=0))"
   ]
  },
  {
   "cell_type": "code",
   "execution_count": 37,
   "metadata": {
    "colab": {
     "base_uri": "https://localhost:8080/",
     "height": 286
    },
    "colab_type": "code",
    "id": "zHJbJFp-dbRO",
    "outputId": "6ebc203f-bf0b-465c-ade3-a578a89f32ed"
   },
   "outputs": [
    {
     "data": {
      "text/plain": [
       "{'accuracy': [0.920963, 0.9666296, 0.9753889, 0.9805741, 0.98370373],\n",
       " 'loss': [0.2620910170781944,\n",
       "  0.11148607025792201,\n",
       "  0.08061093984378709,\n",
       "  0.06394311106696518,\n",
       "  0.0525047090903304],\n",
       " 'val_accuracy': [0.9596666693687439,\n",
       "  0.9605000019073486,\n",
       "  0.9713333249092102,\n",
       "  0.9750000238418579,\n",
       "  0.9769999980926514],\n",
       " 'val_loss': [0.14737068204085033,\n",
       "  0.13540228171646596,\n",
       "  0.10702177307754755,\n",
       "  0.09277856133164217,\n",
       "  0.0959954069556358]}"
      ]
     },
     "execution_count": 37,
     "metadata": {
      "tags": []
     },
     "output_type": "execute_result"
    }
   ],
   "source": [
    "history.history"
   ]
  },
  {
   "cell_type": "code",
   "execution_count": 38,
   "metadata": {
    "colab": {
     "base_uri": "https://localhost:8080/",
     "height": 282
    },
    "colab_type": "code",
    "id": "0S3bergtde8G",
    "outputId": "f74ec157-c2bf-451e-fa4e-4f4d2d1d490a"
   },
   "outputs": [
    {
     "data": {
      "text/plain": [
       "[<matplotlib.lines.Line2D at 0x7f2eab2554a8>]"
      ]
     },
     "execution_count": 38,
     "metadata": {
      "tags": []
     },
     "output_type": "execute_result"
    },
    {
     "data": {
      "image/png": "[encoded data removed]",
      "text/plain": [
       "<Figure size 432x288 with 1 Axes>"
      ]
     },
     "metadata": {
      "needs_background": "light",
      "tags": []
     },
     "output_type": "display_data"
    }
   ],
   "source": [
    "plt.plot(history.history['accuracy'])\n",
    "plt.plot(history.history['val_accuracy'])"
   ]
  },
  {
   "cell_type": "code",
   "execution_count": null,
   "metadata": {
    "colab": {},
    "colab_type": "code",
    "id": "ANdkMmBddkXb"
   },
   "outputs": [],
   "source": []
  }
 ],
 "metadata": {
  "colab": {
   "name": "assignment 37(9-07-20).ipynb",
   "provenance": []
  },
  "kernelspec": {
   "display_name": "Python 3",
   "language": "python",
   "name": "python3"
  },
  "language_info": {
   "codemirror_mode": {
    "name": "ipython",
    "version": 3
   },
   "file_extension": ".py",
   "mimetype": "text/x-python",
   "name": "python",
   "nbconvert_exporter": "python",
   "pygments_lexer": "ipython3",
   "version": "3.7.4"
  }
 },
 "nbformat": 4,
 "nbformat_minor": 1
}

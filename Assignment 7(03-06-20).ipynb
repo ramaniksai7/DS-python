{
 "cells": [
  {
   "cell_type": "markdown",
   "metadata": {},
   "source": [
    "# cse-221710309021-Ramani"
   ]
  },
  {
   "cell_type": "markdown",
   "metadata": {},
   "source": [
    "# 1.[Reverse] Copy the contents of a text file into another, printing the reversed version of each input line\n"
   ]
  },
  {
   "cell_type": "code",
   "execution_count": 1,
   "metadata": {},
   "outputs": [
    {
     "name": "stdout",
     "output_type": "stream",
     "text": [
      "hello,welcome to python programming,data science\n"
     ]
    }
   ],
   "source": [
    "f = open(\"file1.txt\", \"w\")\n",
    "f.write(\"hello,welcome to python programming,data science\")\n",
    "f.close()\n",
    "\n",
    "f = open(\"file1.txt\",\"r\")\n",
    "data = f.read()\n",
    "print(data)\n",
    "f.close()\n",
    "\n",
    "f = open(\"file2.txt\",\"w\")\n",
    "f.write(data[::-1])\n",
    "f.close()"
   ]
  },
  {
   "cell_type": "markdown",
   "metadata": {},
   "source": [
    "# 2.[Number Lines] Print the contents of a file line by line putting a line number for each line.\n"
   ]
  },
  {
   "cell_type": "code",
   "execution_count": 2,
   "metadata": {},
   "outputs": [
    {
     "name": "stdout",
     "output_type": "stream",
     "text": [
      "Contents of file in order:\n",
      "1. hello\n",
      "2. welcome to python programming\n",
      "3. data sciencePython Programming\n",
      "4. Summer Internship\n"
     ]
    }
   ],
   "source": [
    "L = [\"hello\\n\", \"welcome to python programming\\n\", \"data science\",\"Python Programming\\n\",\"Summer Internship\\n\"]\n",
    "\n",
    "f1 = open(\"myfile.txt\", \"w\") \n",
    "f1.writelines(L) \n",
    "f1.close()\n",
    "\n",
    "f1 = open(\"myfile.txt\", \"r\") \n",
    "count = 0\n",
    "\n",
    "print(\"Contents of file in order:\") \n",
    "for line in f1: \n",
    "    count += 1\n",
    "    print(\"{}. {}\".format(count, line.strip()))\n",
    "    \n",
    "f1.close()"
   ]
  },
  {
   "cell_type": "markdown",
   "metadata": {},
   "source": [
    "# 3.[deDuplicate] Avoiding Duplicates\n",
    "In many situations, lists should not contain duplicate elements. For example, a pack of cards should not contain the same card twice. Define a function\n",
    "duplicates (list): bool\n",
    "which returns True if its argument contains duplicate elements.\n",
    "\t\tduplicates [1,2,3,4,5]\n",
    "\t\t\tFalse\n",
    "\t\tduplicates [1,2,3,2]\n",
    "\t\t\tTrue\n",
    "Hint: the standard operation in, which tests whether an element occurs in a list, is helpful here.\n",
    "\n",
    "One way to ensure a list contains no duplicates is to start with a list that might contain duplicate elements, and remove them. Define a function\n",
    "    removeDuplicates (list): list\n",
    "which returns a list containing the same elements as its argument, but without duplicates.\n"
   ]
  },
  {
   "cell_type": "code",
   "execution_count": 9,
   "metadata": {},
   "outputs": [
    {
     "name": "stdout",
     "output_type": "stream",
     "text": [
      "True\n"
     ]
    }
   ],
   "source": [
    "def Duplicates(listOfElems):\n",
    "    if len(list1) == len(set(list1)):\n",
    "        return False\n",
    "    else:\n",
    "        return True\n",
    "list1=[1,2,3,4,2]    \n",
    "result=Duplicates(list1)\n",
    "print(result)"
   ]
  },
  {
   "cell_type": "markdown",
   "metadata": {},
   "source": [
    "# 4.[fractions.py] Develop a package for fractions. Develop a module that performs operations on fractions. It should have methods to create fractions, perform operations on two fractions, simplify a fraction, and print a fraction. You should use that package and illustrate those operations"
   ]
  },
  {
   "cell_type": "code",
   "execution_count": 2,
   "metadata": {},
   "outputs": [
    {
     "name": "stdout",
     "output_type": "stream",
     "text": [
      "fraction is:  0.4\n",
      "Addition is:  1.25\n",
      "substraction is :  -0.25\n",
      "multiplication is:  0.375\n",
      "division is:  0.6666666666666666\n"
     ]
    }
   ],
   "source": [
    "#create a text file and call tht file here\n",
    "#def fr(a,b):\n",
    "#c=a/b\n",
    "#print(\"fraction is: \",c)\n",
    "#def add(a,b,c,d):\n",
    "#e1=a/b\n",
    "#f1=c/d\n",
    "#print(\"Addition is: \",e1+f1)\n",
    "#def sub(a,b,c,d):\n",
    "#e2=a/b\n",
    "#f2=c/d\n",
    "#print(\"substraction is : \",e2-f2)\n",
    "#def mul(a,b,c,d):\n",
    "#e3=a/b\n",
    "#f3=c/d\n",
    "#print(\"multiplication is: \",e3*f3)\n",
    "#def div(a,b,c,d):\n",
    "#e4=a/b\n",
    "#f4=c/d\n",
    "#print(\"division is: \",e4/f4)\n",
    "import myfraction as mf\n",
    "mf.fr(2,5)\n",
    "mf.add(1,2,3,4)\n",
    "mf.sub(1,2,3,4)\n",
    "mf.mul(1,2,3,4)\n",
    "mf.div(1,2,3,4)"
   ]
  },
  {
   "cell_type": "markdown",
   "metadata": {},
   "source": [
    "# 5.[Permutations] \n",
    "A permutation of a list is another list with the same elements, but in a possibly different order. For example, [1,2,1] is a permutation of [2,1,1], but not of [1,2,2]. Write a function\n",
    "    \t\tisPermutation (list1, list2): bool\n",
    "that returns True if its arguments are permutations of each other.\n",
    "\n"
   ]
  },
  {
   "cell_type": "code",
   "execution_count": 4,
   "metadata": {},
   "outputs": [
    {
     "name": "stdout",
     "output_type": "stream",
     "text": [
      "True\n"
     ]
    }
   ],
   "source": [
    "L1=[1,2,1]\n",
    "L2=[2,1,1]\n",
    "def Permutation(list1,list2):\n",
    "    if len(list1)!= len(list2):\n",
    "         return False;\n",
    "    for i in range(0, len(list1)):\n",
    "           if list1.count(list1[i]) != list2.count(list1[i]):\n",
    "                 return False\n",
    "\n",
    "def islist_permutation(list1,list2):\n",
    "      if (Permutation(list1,list2) == False):\n",
    "        return False \n",
    "      else:\n",
    "        return True\n",
    "\n",
    "print(islist_permutation(L1,L2))"
   ]
  },
  {
   "cell_type": "code",
   "execution_count": null,
   "metadata": {},
   "outputs": [],
   "source": []
  }
 ],
 "metadata": {
  "kernelspec": {
   "display_name": "Python 3",
   "language": "python",
   "name": "python3"
  },
  "language_info": {
   "codemirror_mode": {
    "name": "ipython",
    "version": 3
   },
   "file_extension": ".py",
   "mimetype": "text/x-python",
   "name": "python",
   "nbconvert_exporter": "python",
   "pygments_lexer": "ipython3",
   "version": "3.7.4"
  }
 },
 "nbformat": 4,
 "nbformat_minor": 2
}

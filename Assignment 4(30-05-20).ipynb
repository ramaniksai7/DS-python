{
 "cells": [
  {
   "cell_type": "markdown",
   "metadata": {},
   "source": [
    "# CSE-221710309021-Ramani"
   ]
  },
  {
   "cell_type": "markdown",
   "metadata": {},
   "source": [
    "# 1.Count the no.of words,no.of letters,no.of lines available in your file"
   ]
  },
  {
   "cell_type": "code",
   "execution_count": 2,
   "metadata": {},
   "outputs": [
    {
     "name": "stdout",
     "output_type": "stream",
     "text": [
      "Number of words in text file:  7\n",
      "Number of lines in text file:  2\n",
      "Number of letters in text file:  37\n"
     ]
    }
   ],
   "source": [
    "\n",
    "def counter(fname): \n",
    "    num_words = 0\n",
    "    num_lines = 0\n",
    "    num_charc = 0\n",
    "    num_spaces = 0\n",
    "      \n",
    "    with open(fname, 'r') as f: \n",
    "        for line in f: \n",
    "            num_lines += 1\n",
    "            word = 'Y'\n",
    "            for letter in line: \n",
    "                if (letter != ' ' and word == 'Y'): \n",
    "                    num_words += 1\n",
    "                    word = 'N'\n",
    "                elif (letter == ' '): \n",
    "                    num_spaces += 1\n",
    "                    word = 'Y'\n",
    "                      \n",
    "                for i in letter: \n",
    "                    if(i !=\" \" and i !=\"\\n\"): \n",
    "                        num_charc += 1\n",
    "                          \n",
    "    print(\"Number of words in text file: \", num_words) \n",
    "    print(\"Number of lines in text file: \", num_lines) \n",
    "    print('Number of letters in text file: ', num_charc) \n",
    "      \n",
    "# Driver Code:  \n",
    "if __name__ == '__main__':  \n",
    "    fname = 'sample.txt'\n",
    "    try:  \n",
    "        counter(fname)  \n",
    "    except:  \n",
    "        print('File not found')"
   ]
  },
  {
   "cell_type": "markdown",
   "metadata": {},
   "source": [
    "# 2.Copy the content of one file to another\n"
   ]
  },
  {
   "cell_type": "code",
   "execution_count": 3,
   "metadata": {},
   "outputs": [],
   "source": [
    "f = open(\"sample.txt\",\"r\")\n",
    "data = f.read()\n",
    "f.close()\n",
    "\n",
    "f = open(\"sample2.txt\",\"x\")\n",
    "f.write(data)\n",
    "f.close()"
   ]
  },
  {
   "cell_type": "markdown",
   "metadata": {},
   "source": [
    "# 3.Display the words starting with letter 'p'\n"
   ]
  },
  {
   "cell_type": "code",
   "execution_count": 5,
   "metadata": {},
   "outputs": [
    {
     "name": "stdout",
     "output_type": "stream",
     "text": [
      "python\n",
      "programming\n"
     ]
    }
   ],
   "source": [
    "str = \"python is a programming language\"\n",
    "for i in str.split():\n",
    "    if i.startswith('p'):\n",
    "        print(i)"
   ]
  },
  {
   "cell_type": "markdown",
   "metadata": {},
   "source": [
    "# 4.Rename and remove files"
   ]
  },
  {
   "cell_type": "code",
   "execution_count": 6,
   "metadata": {},
   "outputs": [],
   "source": [
    "import os\n",
    "os.rename(r'sample.txt',r'sample3.txt')\n",
    "os.remove('sample3.txt')"
   ]
  },
  {
   "cell_type": "markdown",
   "metadata": {},
   "source": [
    "# 5.Create a folder \n",
    "             1.create a folder\n",
    "             2.Goto that folder and create 5 no.of files\n",
    "             3.All the file names should be unique\n",
    "             4.Add some content into the file and the content in all the files should be unique\n",
    "             5.File size should be 512bits\n"
   ]
  },
  {
   "cell_type": "code",
   "execution_count": 13,
   "metadata": {},
   "outputs": [
    {
     "name": "stdout",
     "output_type": "stream",
     "text": [
      "Directory '221710309021' created\n"
     ]
    }
   ],
   "source": [
    "import os  \n",
    "\n",
    "directory = \"221710309021\"\n",
    "    \n",
    "# Parent Directories  \n",
    "parent_dir = \"Students\"\n",
    "    \n",
    "# Path  \n",
    "path = os.path.join(parent_dir, directory)  \n",
    "    \n",
    "os.makedirs(path)  \n",
    "print(\"Directory '% s' created\" % directory)  \n",
    "\n",
    "os.chdir(\"Students/221710309021\")\n",
    "f = open(\"sample.txt\",\"x\")\n",
    "f.write(\"This is my File 1\")\n",
    "f.close()\n",
    "\n",
    "f = open(\"sample2.txt\",\"x\")\n",
    "f.write(\"This is my File 2\")\n",
    "f.close()\n",
    "\n",
    "f = open(\"sample3.txt\",\"x\")\n",
    "f.write(\"This is my File 3\")\n",
    "f.close()\n",
    "\n",
    "f = open(\"sample4.txt\",\"x\")\n",
    "f.write(\"This is my File 4\")\n",
    "f.close()\n",
    "\n",
    "f = open(\"sample5.txt\",\"x\")\n",
    "f.write(\"This is my File 5\")\n",
    "f.close()"
   ]
  },
  {
   "cell_type": "code",
   "execution_count": null,
   "metadata": {},
   "outputs": [],
   "source": []
  }
 ],
 "metadata": {
  "kernelspec": {
   "display_name": "Python 3",
   "language": "python",
   "name": "python3"
  },
  "language_info": {
   "codemirror_mode": {
    "name": "ipython",
    "version": 3
   },
   "file_extension": ".py",
   "mimetype": "text/x-python",
   "name": "python",
   "nbconvert_exporter": "python",
   "pygments_lexer": "ipython3",
   "version": "3.7.4"
  }
 },
 "nbformat": 4,
 "nbformat_minor": 2
}

{
 "cells": [
  {
   "cell_type": "code",
   "execution_count": 4,
   "metadata": {},
   "outputs": [
    {
     "name": "stdout",
     "output_type": "stream",
     "text": [
      "1\n",
      "2\n",
      "3\n",
      "4\n"
     ]
    }
   ],
   "source": [
    "#loop control statements: break,continue\n",
    "for i in range(1,11):\n",
    "    if i % 5 == 0:\n",
    "        break\n",
    "    else:\n",
    "        print(i)"
   ]
  },
  {
   "cell_type": "code",
   "execution_count": 5,
   "metadata": {},
   "outputs": [
    {
     "name": "stdout",
     "output_type": "stream",
     "text": [
      "1\n",
      "2\n",
      "3\n",
      "4\n",
      "6\n",
      "7\n",
      "8\n",
      "9\n"
     ]
    }
   ],
   "source": [
    "#using continue\n",
    "for i in range(1,11):\n",
    "    if i % 5 == 0:\n",
    "        continue\n",
    "    else:\n",
    "        print(i)\n",
    "        "
   ]
  },
  {
   "cell_type": "markdown",
   "metadata": {},
   "source": [
    "# write a program to validate username and password given by the user.If the user gives wrong credentials it should ask for username and password again again until the user gives correct details.\n"
   ]
  },
  {
   "cell_type": "code",
   "execution_count": 7,
   "metadata": {},
   "outputs": [
    {
     "name": "stdout",
     "output_type": "stream",
     "text": [
      "enter the user nameabc\n",
      "enter the user namepython\n",
      "enter the passwordabc\n",
      "enter the user namepython\n",
      "enter the passwordabc123\n",
      "Login Success!\n"
     ]
    }
   ],
   "source": [
    "#username:python\n",
    "#password:abc123\n",
    "while(True):  #here loop will have infinite times until it is true\n",
    "    uname=input(\"enter the user name\")\n",
    "    if(uname==\"python\"):\n",
    "        password=input(\"enter the password\")\n",
    "        if(password==\"abc123\"):\n",
    "            print(\"Login Success!\")\n",
    "            break\n",
    "        else:\n",
    "            continue\n",
    "    \n"
   ]
  },
  {
   "cell_type": "code",
   "execution_count": 9,
   "metadata": {},
   "outputs": [],
   "source": [
    "#pass-->for creating an empty block\n",
    "if 12<15:\n",
    "    pass\n",
    "else:\n",
    "    print(\"else\")"
   ]
  },
  {
   "cell_type": "markdown",
   "metadata": {},
   "source": [
    "### Function:\n",
    "block of statements\n",
    "1. predefined(which are already exists)\n",
    "   - len(),print(),input(),min(),max()\n",
    "2. user-defined function(created by the user)\n"
   ]
  },
  {
   "cell_type": "markdown",
   "metadata": {},
   "source": [
    "### syntax for funtion\n",
    "     def function_name(parameter list):\n",
    "             statements\n",
    "              return"
   ]
  },
  {
   "cell_type": "code",
   "execution_count": 16,
   "metadata": {},
   "outputs": [
    {
     "name": "stdout",
     "output_type": "stream",
     "text": [
      "hello satya\n"
     ]
    }
   ],
   "source": [
    "def name(username):#function definition\n",
    "    print(\"hello\",username)\n",
    "    \n",
    "name(\"satya\") #function calling\n",
    "#name(20)\n",
    "#name(\"\")"
   ]
  },
  {
   "cell_type": "code",
   "execution_count": 23,
   "metadata": {},
   "outputs": [
    {
     "name": "stdout",
     "output_type": "stream",
     "text": [
      "(30, -10, 0.5)\n"
     ]
    }
   ],
   "source": [
    "#another example for function\n",
    "def addition(a,b):\n",
    "    return a+b,a-b,a/b\n",
    "\n",
    "print(addition(10,20)) #function calling\n"
   ]
  },
  {
   "cell_type": "code",
   "execution_count": 24,
   "metadata": {},
   "outputs": [
    {
     "name": "stdout",
     "output_type": "stream",
     "text": [
      "-10\n"
     ]
    }
   ],
   "source": [
    "#to store them diff we can write like this also\n",
    "#for multiple return values\n",
    "def addition(a,b):\n",
    "    return a+b,a-b,a/b\n",
    "#also known as unpacking(as we r dividing the tuples)\n",
    "add,sub,div=(addition(10,20))\n",
    "print(sub)"
   ]
  },
  {
   "cell_type": "markdown",
   "metadata": {},
   "source": [
    "# diff type of arguments to functions\n",
    "1. required positional arguments\n",
    "2. default arguments\n",
    "3. keyword arguments\n",
    "4. variable length arguments"
   ]
  },
  {
   "cell_type": "code",
   "execution_count": 25,
   "metadata": {},
   "outputs": [
    {
     "name": "stdout",
     "output_type": "stream",
     "text": [
      "30\n"
     ]
    }
   ],
   "source": [
    "#required positional arguments\n",
    "def add(a,b):\n",
    "    return a+b\n",
    "print(add(10,20))"
   ]
  },
  {
   "cell_type": "code",
   "execution_count": 28,
   "metadata": {},
   "outputs": [
    {
     "name": "stdout",
     "output_type": "stream",
     "text": [
      "30\n",
      "110\n"
     ]
    }
   ],
   "source": [
    "#default arguments\n",
    "def add(a,b=100):#default arg should be at end of parameter list\n",
    "    return a+b\n",
    "print(add(10,20))\n",
    "print(add(10)) #it takes default b value as 100"
   ]
  },
  {
   "cell_type": "code",
   "execution_count": 32,
   "metadata": {},
   "outputs": [
    {
     "name": "stdout",
     "output_type": "stream",
     "text": [
      "a value is:  20\n",
      "b value is:  10\n"
     ]
    },
    {
     "data": {
      "text/plain": [
       "30"
      ]
     },
     "execution_count": 32,
     "metadata": {},
     "output_type": "execute_result"
    }
   ],
   "source": [
    "#using keyword arguments\n",
    "def add(a,b):\n",
    "    print(\"a value is: \",a)\n",
    "    print(\"b value is: \",b)\n",
    "    return a+b\n",
    "add(b=10,a=20)#you can assign which value is given to which parameter"
   ]
  },
  {
   "cell_type": "code",
   "execution_count": 33,
   "metadata": {},
   "outputs": [
    {
     "name": "stdout",
     "output_type": "stream",
     "text": [
      "enter value a5\n",
      "enter value of b6\n",
      "a value is:  5\n",
      "b value is:  6\n"
     ]
    },
    {
     "data": {
      "text/plain": [
       "11"
      ]
     },
     "execution_count": 33,
     "metadata": {},
     "output_type": "execute_result"
    }
   ],
   "source": [
    "#keyword arguments using user defined values\n",
    "a=int(input(\"enter value a\"))\n",
    "b=int(input(\"enter value of b\"))\n",
    "add(a,b)\n",
    "            "
   ]
  },
  {
   "cell_type": "code",
   "execution_count": 44,
   "metadata": {},
   "outputs": [
    {
     "name": "stdout",
     "output_type": "stream",
     "text": [
      "200\n",
      "6000\n",
      "240000\n"
     ]
    }
   ],
   "source": [
    "#variable length arguments\n",
    "#(120,34,50,450,460)-->tuple\n",
    "def mul(*a): #representation of variable length any number of values can be passed\n",
    "    m=1\n",
    "    for i in a:\n",
    "        m=m*i\n",
    "    return m\n",
    "\n",
    "print(mul(10,20))\n",
    "print(mul(10,20,30))\n",
    "print(mul(10,20,30,40))"
   ]
  },
  {
   "cell_type": "code",
   "execution_count": 43,
   "metadata": {},
   "outputs": [
    {
     "name": "stdout",
     "output_type": "stream",
     "text": [
      "100\n",
      "1000\n"
     ]
    }
   ],
   "source": [
    "#nested functions:square,cube\n",
    "def square(a):\n",
    "    return a*a\n",
    "\n",
    "def cube(x):\n",
    "    return square(x)*x\n",
    "\n",
    "print(square(10))\n",
    "print(cube(10))\n"
   ]
  },
  {
   "cell_type": "code",
   "execution_count": 46,
   "metadata": {},
   "outputs": [],
   "source": [
    "#recursive function\n",
    "#1.finding factorial of a number\n",
    "#2.fibanocci series\n",
    "\n"
   ]
  },
  {
   "cell_type": "markdown",
   "metadata": {},
   "source": [
    "# data structures\n",
    "1. list:\n",
    "   - [] elements are seperated by ','\n",
    "   - lists are mutable,indexed,ordered and allows   duplicate values(mutable means u can make any changes)\n",
    "   - list allows Heterogeneous values\n",
    "   - any type of values can be supported inside the list like int,float,char,boolean,etc...\n",
    "\n"
   ]
  },
  {
   "cell_type": "code",
   "execution_count": 49,
   "metadata": {},
   "outputs": [
    {
     "name": "stdout",
     "output_type": "stream",
     "text": [
      "<class 'list'>\n"
     ]
    }
   ],
   "source": [
    "#example for list\n",
    "      # 0  1      2    3    \n",
    "list1=[12,23.45,True,\"abc\"] #in true T should be capital even in false F should be capital\n",
    "       #-4  -3   -2  -1\n",
    "#indexes are negative as well as positive\n",
    "print(type(list1))"
   ]
  },
  {
   "cell_type": "code",
   "execution_count": 52,
   "metadata": {},
   "outputs": [
    {
     "name": "stdout",
     "output_type": "stream",
     "text": [
      "[1, 2, 3, 10, 20, 30]\n",
      "[1, 2, 3, 1, 2, 3, 1, 2, 3]\n",
      "2\n",
      "[2, 3]\n",
      "True\n",
      "False\n"
     ]
    }
   ],
   "source": [
    "#operations supported by list are :+,*,[],[:],in,not in\n",
    "list1=[1,2,3]\n",
    "list2=[10,20,30]\n",
    "print(list1+list2)#concatenation\n",
    "print(list1*3)#repetition\n",
    "print(list1[1])#2\n",
    "print(list1[1:3])#[1,2]indexes will be printed\n",
    "print(2 in list1)#true\n",
    "print(200 in list1)#false"
   ]
  },
  {
   "cell_type": "code",
   "execution_count": 55,
   "metadata": {},
   "outputs": [
    {
     "name": "stdout",
     "output_type": "stream",
     "text": [
      "3\n",
      "30\n",
      "1\n",
      "10\n",
      "3\n",
      "3\n",
      "[1, 2, 3]\n",
      "[10, 20, 30]\n"
     ]
    }
   ],
   "source": [
    "#built in functions:len(),min(),max(),list()\n",
    "list1=[1,2,3]\n",
    "list2=[10,20,30]\n",
    "print(max(list1))\n",
    "print(max(list2))\n",
    "print(min(list1))\n",
    "print(min(list2))\n",
    "print(len(list1))\n",
    "print(len(list2))\n",
    "print(list(list1))\n",
    "print(list(list2))"
   ]
  },
  {
   "cell_type": "code",
   "execution_count": 54,
   "metadata": {},
   "outputs": [
    {
     "data": {
      "text/plain": [
       "'t'"
      ]
     },
     "execution_count": 54,
     "metadata": {},
     "output_type": "execute_result"
    }
   ],
   "source": [
    "#to print a specific character in list\n",
    "list1=[1,2,3,\"python\"]\n",
    "list1[3][2]"
   ]
  },
  {
   "cell_type": "code",
   "execution_count": 57,
   "metadata": {},
   "outputs": [
    {
     "name": "stdout",
     "output_type": "stream",
     "text": [
      "['h', 'e', 'l', 'l', 'o']\n"
     ]
    }
   ],
   "source": [
    "#converting string object to list\n",
    "s1=\"hello\"\n",
    "list1=list(s1)\n",
    "print(list1)"
   ]
  },
  {
   "cell_type": "code",
   "execution_count": 58,
   "metadata": {},
   "outputs": [
    {
     "name": "stdout",
     "output_type": "stream",
     "text": [
      "[1, 2, 7]\n"
     ]
    }
   ],
   "source": [
    "#replacing the elements in the list\n",
    "list=[1,2,3]\n",
    "list[-1]=7# here the -1 is the index\n",
    "print(list)"
   ]
  },
  {
   "cell_type": "code",
   "execution_count": null,
   "metadata": {},
   "outputs": [],
   "source": []
  }
 ],
 "metadata": {
  "kernelspec": {
   "display_name": "Python 3",
   "language": "python",
   "name": "python3"
  },
  "language_info": {
   "codemirror_mode": {
    "name": "ipython",
    "version": 3
   },
   "file_extension": ".py",
   "mimetype": "text/x-python",
   "name": "python",
   "nbconvert_exporter": "python",
   "pygments_lexer": "ipython3",
   "version": "3.7.4"
  }
 },
 "nbformat": 4,
 "nbformat_minor": 2
}

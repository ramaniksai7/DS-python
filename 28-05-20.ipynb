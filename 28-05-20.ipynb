{
 "cells": [
  {
   "cell_type": "markdown",
   "metadata": {},
   "source": [
    "### strings:\n",
    "1. \" \" or ' '  these are used to represent the string anyone can be used\n",
    "2. immutable->we cannot make any changes after a string is created\n",
    "                      (you can call it as iterable object)\n",
    "3. collection of characters enclosed by quotations\n"
   ]
  },
  {
   "cell_type": "code",
   "execution_count": 5,
   "metadata": {},
   "outputs": [
    {
     "name": "stdout",
     "output_type": "stream",
     "text": [
      "<class 'str'> <class 'str'>\n",
      "enter a string hello\n"
     ]
    }
   ],
   "source": [
    "s1 = \"Hello\"\n",
    "s2 = 'Good Afternoon'\n",
    "print(type(s1),type(s2))\n",
    "# type()is used to know which type of datatype it is\n",
    "#if u want user defined string then \n",
    "s1 = input(\"enter a string \")"
   ]
  },
  {
   "cell_type": "code",
   "execution_count": 13,
   "metadata": {},
   "outputs": [
    {
     "name": "stdout",
     "output_type": "stream",
     "text": [
      "helloGood Afternoon\n",
      "hellohellohello\n",
      "o\n",
      "o\n",
      "llo\n",
      "hello\n",
      "hello\n",
      "hlo\n"
     ]
    }
   ],
   "source": [
    "#operators : +,*(repitition),[](slice)\n",
    "#[start:stop:step],in,not in\n",
    "print(s1 + s2)#concatenation here s1=hello and s2 =Good Afternoon\n",
    "print(s1 * 3)#repetition\n",
    "print(s1[4])# gives you the 4 th letter of the word hello\n",
    "print(s1[-1])#gives the index from reverse as it is negative\n",
    "print(s1[2:])#here 2 is start index and if wont give stop value is length of the string\n",
    "print(s1[0:5])\n",
    "print(s1[:])#takes  start=0 and stop=length of string\n",
    "print(s1[0:5:2])"
   ]
  },
  {
   "cell_type": "code",
   "execution_count": 27,
   "metadata": {},
   "outputs": [
    {
     "name": "stdout",
     "output_type": "stream",
     "text": [
      "enter the stringmom\n",
      "given string is palindrome\n"
     ]
    }
   ],
   "source": [
    "#take the string from the user and check weather the given string is palindrome or not\n",
    "s3 = input(\"enter the string\")\n",
    "if s3 ==s3[::-1]:\n",
    "    print(\"given string is palindrome\")\n",
    "else:\n",
    "    print(\"given string is not a palindrome\")\n"
   ]
  },
  {
   "cell_type": "code",
   "execution_count": 26,
   "metadata": {},
   "outputs": [
    {
     "name": "stdout",
     "output_type": "stream",
     "text": [
      "olleh\n"
     ]
    }
   ],
   "source": [
    "#for reverse of the string basic logic is\n",
    "print(s1[::-1]) #here s1=hello"
   ]
  },
  {
   "cell_type": "code",
   "execution_count": 30,
   "metadata": {},
   "outputs": [
    {
     "name": "stdout",
     "output_type": "stream",
     "text": [
      "enter a number12321\n",
      "palin\n"
     ]
    }
   ],
   "source": [
    "#a number is palindrome or not\n",
    "n = int(input(\"enter a number\"))\n",
    "if str(n) == str(n)[::-1]:\n",
    "   print(\"palin\")\n",
    "else:\n",
    "   print(\"not palin\")\n"
   ]
  },
  {
   "cell_type": "code",
   "execution_count": 33,
   "metadata": {},
   "outputs": [
    {
     "name": "stdout",
     "output_type": "stream",
     "text": [
      "True\n",
      "False\n",
      "True\n"
     ]
    }
   ],
   "source": [
    "s4 = \"python\" #using membership operators in,not in\n",
    "print(\"on\" in s4)\n",
    "print(\"on\" not in s4)\n",
    "print(\"ab\" not in s4)"
   ]
  },
  {
   "cell_type": "markdown",
   "metadata": {},
   "source": [
    "### Built -in functions:\n",
    "1. len()-->length of string\n",
    "2. max()\n",
    "3. min()\n",
    "4. str()"
   ]
  },
  {
   "cell_type": "code",
   "execution_count": 34,
   "metadata": {},
   "outputs": [
    {
     "name": "stdout",
     "output_type": "stream",
     "text": [
      "5\n",
      "o\n",
      "e\n",
      "c\n",
      "1\n"
     ]
    }
   ],
   "source": [
    "s = \"hello\"\n",
    "s1 = \"abc123\"\n",
    "print(len(s)) #these max and min value are decided based on Ascii \n",
    "print(max(s))\n",
    "print(min(s))\n",
    "print(max(s1))\n",
    "print(min(s1))"
   ]
  },
  {
   "cell_type": "markdown",
   "metadata": {},
   "source": [
    "### Built-in methods\n",
    "1. capitalize()->use to capitalize the first letter of the string\n",
    "2. isalpha()->true when characters and false for numbers\n",
    "3. isdigit()->true when digits and false for characters\n",
    "4. isalnum()->true when it has characters a well as digits\n",
    "5. isupper()->if string is in capital it returns true or else false\n",
    "6. islower()-->if string is in small letters returns true or else false\n",
    "7. swapcase()-->used to convert upper to lower and all lower to upper \n",
    "8. lower()\n",
    "9. upper()\n",
    "10. count()->count returns frequeny of the given string\n",
    "11. split()->returns type of list\n",
    "12. replace->replaces the old character with new character\n"
   ]
  },
  {
   "cell_type": "code",
   "execution_count": 36,
   "metadata": {},
   "outputs": [
    {
     "name": "stdout",
     "output_type": "stream",
     "text": [
      "5\n",
      "Hello\n"
     ]
    }
   ],
   "source": [
    "s = \"hello\"\n",
    "print(len(s)) #function name(object name)\n",
    "s=s.capitalize()#object name.method name()\n",
    "print(s)"
   ]
  },
  {
   "cell_type": "code",
   "execution_count": 42,
   "metadata": {},
   "outputs": [
    {
     "name": "stdout",
     "output_type": "stream",
     "text": [
      "True\n",
      "False\n",
      "True\n",
      "False\n",
      "False\n",
      "True\n",
      "False\n",
      "True\n",
      "True\n"
     ]
    }
   ],
   "source": [
    "s1=\"hello\"\n",
    "s2=\"abc123\"\n",
    "s3=\"123\"\n",
    "print(s1.isalpha())\n",
    "print(s1.isdigit())\n",
    "print(s1.isalnum())\n",
    "print(s2.isalpha())\n",
    "print(s2.isdigit())\n",
    "print(s2.isalnum())\n",
    "print(s3.isalpha())\n",
    "print(s3.isdigit())\n",
    "print(s3.isalnum())"
   ]
  },
  {
   "cell_type": "code",
   "execution_count": 45,
   "metadata": {},
   "outputs": [
    {
     "name": "stdout",
     "output_type": "stream",
     "text": [
      "False\n",
      "False\n",
      "True\n",
      "True\n"
     ]
    }
   ],
   "source": [
    "s1 = \"python\"\n",
    "s2 = \"PHYTHON\"\n",
    "print(s1.isupper())\n",
    "print(s2.islower())\n",
    "print(s2.isupper())\n",
    "print(s1.islower())"
   ]
  },
  {
   "cell_type": "code",
   "execution_count": 48,
   "metadata": {},
   "outputs": [
    {
     "name": "stdout",
     "output_type": "stream",
     "text": [
      "HELLO\n",
      "hello\n",
      "pYtHOn\n",
      "hello\n",
      "HELLO\n"
     ]
    }
   ],
   "source": [
    "s1 = \"hello\"\n",
    "s2 = \"HELLO\"\n",
    "s3 = \"PyThoN\"\n",
    "print(s1.swapcase())\n",
    "print(s2.swapcase())\n",
    "print(s3.swapcase())\n",
    "print(s2.lower())\n",
    "print(s2.upper())"
   ]
  },
  {
   "cell_type": "code",
   "execution_count": 49,
   "metadata": {},
   "outputs": [
    {
     "data": {
      "text/plain": [
       "3"
      ]
     },
     "execution_count": 49,
     "metadata": {},
     "output_type": "execute_result"
    }
   ],
   "source": [
    "s = \"abc abc abc\"\n",
    "s.count(\"abc\")# count returns frequeny of the given string"
   ]
  },
  {
   "cell_type": "code",
   "execution_count": 63,
   "metadata": {},
   "outputs": [
    {
     "name": "stdout",
     "output_type": "stream",
     "text": [
      "['abc', 'abc', 'abc']\n",
      "['a', 'b', 'c', 'd']\n"
     ]
    }
   ],
   "source": [
    "#split()->returns type of list\n",
    "s=\"abc abc abc\"\n",
    "print(s.split())\n",
    "s1=\"a,b,c,d\"\n",
    "print(s1.split(\",\"))\n"
   ]
  },
  {
   "cell_type": "code",
   "execution_count": 64,
   "metadata": {},
   "outputs": [
    {
     "name": "stdout",
     "output_type": "stream",
     "text": [
      "azc\n",
      "abc\n"
     ]
    }
   ],
   "source": [
    "#replace->replaces the old character with new character\n",
    "s=\"abc\" #replacing b with z\n",
    "print(s.replace(\"b\",\"z\"))#to store the changes s=s.replace('b','z')\n",
    "print(s)\n",
    "#s=s.replace('b','z')\n",
    "#print(s)\n"
   ]
  },
  {
   "cell_type": "code",
   "execution_count": 74,
   "metadata": {},
   "outputs": [
    {
     "name": "stdout",
     "output_type": "stream",
     "text": [
      "enter the position3\n",
      "enter a stringabcabc\n",
      "ababc\n"
     ]
    }
   ],
   "source": [
    "#accept a number(n) from the user and remove the nth position\n",
    "#character from the string\n",
    "#n=3\n",
    "#s=abcabc\n",
    "#output: ababc\n",
    "n=int(input(\"enter the position\"))\n",
    "s=input(\"enter a string\")\n",
    "print(s.replace(s[n-1],\"\",1))#(index.replacing character,nth position)"
   ]
  },
  {
   "cell_type": "markdown",
   "metadata": {},
   "source": [
    "### topic-> for loop:\n",
    "1. for loop with range() function\n",
    "2. for loop with iterable object\n"
   ]
  },
  {
   "cell_type": "markdown",
   "metadata": {},
   "source": [
    "# syntax for for loop in python with range function \n",
    "###### for variable_name in range(start,stop,step):\n",
    "           statements\n"
   ]
  },
  {
   "cell_type": "code",
   "execution_count": 78,
   "metadata": {},
   "outputs": [
    {
     "name": "stdout",
     "output_type": "stream",
     "text": [
      "1 2 3 4 5 6 7 8 9 10 \n",
      "1 2 3 4 5 6 7 8 9 10 "
     ]
    }
   ],
   "source": [
    "#print 1-n numbers on the screen using for and while loop with range\n",
    "n=10\n",
    "for i in range(1,n+1):\n",
    "    print(i,end=\" \")\n",
    "\n",
    "print()\n",
    "\n",
    "i=1\n",
    "while i<=n:\n",
    "    print(i,end=\" \")\n",
    "    i+=1"
   ]
  },
  {
   "cell_type": "markdown",
   "metadata": {},
   "source": [
    "# for loop for iterable object \n",
    "### syntax -> for variable in iterable obj:\n",
    "             statements"
   ]
  },
  {
   "cell_type": "code",
   "execution_count": 79,
   "metadata": {},
   "outputs": [
    {
     "name": "stdout",
     "output_type": "stream",
     "text": [
      "h\n",
      "e\n",
      "l\n",
      "l\n",
      "o\n"
     ]
    }
   ],
   "source": [
    "#using for loop with iterable object\n",
    "s=\"hello\"\n",
    "for i in s:\n",
    "    print(i)"
   ]
  },
  {
   "cell_type": "code",
   "execution_count": 84,
   "metadata": {},
   "outputs": [
    {
     "name": "stdout",
     "output_type": "stream",
     "text": [
      "h\n",
      "e\n",
      "l\n",
      "l\n",
      "o\n"
     ]
    }
   ],
   "source": [
    "#using while loop print all the characters of ur string vertically\n",
    "i=0\n",
    "while(i<len(s)):\n",
    "    print(s[i])\n",
    "    i+=1\n"
   ]
  },
  {
   "cell_type": "code",
   "execution_count": 89,
   "metadata": {},
   "outputs": [
    {
     "name": "stdout",
     "output_type": "stream",
     "text": [
      "h\n",
      "e\n",
      "l\n",
      "l\n",
      "o\n"
     ]
    }
   ],
   "source": [
    "#print the characters of ur string without using iterable object\n",
    "n=\"hello\"\n",
    "for i in range(0,len(n)):\n",
    "    print(n[i])\n",
    "    i+=1"
   ]
  },
  {
   "cell_type": "code",
   "execution_count": null,
   "metadata": {},
   "outputs": [],
   "source": []
  }
 ],
 "metadata": {
  "kernelspec": {
   "display_name": "Python 3",
   "language": "python",
   "name": "python3"
  },
  "language_info": {
   "codemirror_mode": {
    "name": "ipython",
    "version": 3
   },
   "file_extension": ".py",
   "mimetype": "text/x-python",
   "name": "python",
   "nbconvert_exporter": "python",
   "pygments_lexer": "ipython3",
   "version": "3.7.4"
  }
 },
 "nbformat": 4,
 "nbformat_minor": 2
}

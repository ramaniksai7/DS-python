{
 "cells": [
  {
   "cell_type": "markdown",
   "metadata": {},
   "source": [
    "# problem solving questions"
   ]
  },
  {
   "cell_type": "markdown",
   "metadata": {},
   "source": [
    "questions link:https://docs.google.com/document/d/1WrkWFmmhCmX8Oi9Aw6uLhw0zU5IvTfYjJoVJIXzN_WM/edit"
   ]
  },
  {
   "cell_type": "code",
   "execution_count": 1,
   "metadata": {},
   "outputs": [],
   "source": [
    "#question 11"
   ]
  },
  {
   "cell_type": "code",
   "execution_count": 3,
   "metadata": {},
   "outputs": [
    {
     "name": "stdout",
     "output_type": "stream",
     "text": [
      "4\n",
      "5\n"
     ]
    }
   ],
   "source": [
    "user_id=[1,1,2,3,3,4,4,4,5,5]\n",
    "user=list(set(user_id))\n",
    "ancestry=[\"English\",\"Treland\",\"France\",\"Germany\",\"Poland\",\"England\",\"France\",\"Germany\",\"France\",\"Germany\"]\n",
    "r={}\n",
    "for i in range(0,len(user_id)):\n",
    "    if(user_id[i] not in r.keys()):\n",
    "        r[user_id[i]]=[]\n",
    "        r[user_id[i]].append(ancestry[i])\n",
    "    else:\n",
    "        r[user_id[i]].append(ancestry[i])\n",
    "required=['France','Germany']\n",
    "for i in range(0,len(user)):\n",
    "    if(set(required).issubset(set(r[user[i]]))):\n",
    "        print(user[i])"
   ]
  },
  {
   "cell_type": "code",
   "execution_count": null,
   "metadata": {},
   "outputs": [],
   "source": []
  }
 ],
 "metadata": {
  "kernelspec": {
   "display_name": "Python 3",
   "language": "python",
   "name": "python3"
  },
  "language_info": {
   "codemirror_mode": {
    "name": "ipython",
    "version": 3
   },
   "file_extension": ".py",
   "mimetype": "text/x-python",
   "name": "python",
   "nbconvert_exporter": "python",
   "pygments_lexer": "ipython3",
   "version": "3.7.4"
  }
 },
 "nbformat": 4,
 "nbformat_minor": 2
}
